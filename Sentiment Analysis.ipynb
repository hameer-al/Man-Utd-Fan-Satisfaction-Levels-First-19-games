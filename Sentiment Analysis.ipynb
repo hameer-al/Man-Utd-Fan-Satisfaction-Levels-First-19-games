{
 "cells": [
  {
   "cell_type": "code",
   "execution_count": 146,
   "id": "fd94de4e",
   "metadata": {},
   "outputs": [],
   "source": [
    "# Import the libraries \n",
    "from textblob import TextBlob\n",
    "import tweepy\n",
    "import sys\n",
    "import numpy as np\n",
    "import csv\n",
    "import ssl\n",
    "import pandas as pd\n",
    "import re"
   ]
  },
  {
   "cell_type": "code",
   "execution_count": 147,
   "id": "b8640a80",
   "metadata": {},
   "outputs": [],
   "source": [
    "# Twitter API credentials\n",
    "# Added fake credentials here for privacy\n",
    "api_key = 'xyz'\n",
    "api_secret = 'abc'\n",
    "\n",
    "access_token = '123'\n",
    "access_secret = '789'"
   ]
  },
  {
   "cell_type": "code",
   "execution_count": 148,
   "id": "e1574a69",
   "metadata": {},
   "outputs": [],
   "source": [
    "# Create the authentication object\n",
    "auth_handler = tweepy.OAuthHandler(consumer_key=api_key, consumer_secret=api_secret)\n",
    "# Set the access token and access token secret\n",
    "auth_handler.set_access_token(access_token, access_secret)"
   ]
  },
  {
   "cell_type": "code",
   "execution_count": 149,
   "id": "c8b11301",
   "metadata": {},
   "outputs": [],
   "source": [
    "#Create the API object while passing in the auth information\n",
    "api = tweepy.API(auth_handler)"
   ]
  },
  {
   "cell_type": "code",
   "execution_count": 150,
   "id": "887e33cf",
   "metadata": {},
   "outputs": [],
   "source": [
    "#Select tweet whose replies will be extracted\n",
    "name = 'ManUtd'\n",
    "tweet_id = '123' #Not an authentic tweet id"
   ]
  },
  {
   "cell_type": "code",
   "execution_count": null,
   "id": "19795283",
   "metadata": {},
   "outputs": [],
   "source": [
    "# Extract Replies to the tweet\n",
    "replies=[]\n",
    "for tweet in tweepy.Cursor(api.search_tweets,q='to:'+name, result_type='recent').items(1500):\n",
    "    if hasattr(tweet, 'in_reply_to_status_id_str'):\n",
    "        if (tweet.in_reply_to_status_id_str==tweet_id):\n",
    "            replies.append(tweet.text)"
   ]
  },
  {
   "cell_type": "code",
   "execution_count": 132,
   "id": "5b44a142",
   "metadata": {},
   "outputs": [
    {
     "data": {
      "text/html": [
       "<div>\n",
       "<style scoped>\n",
       "    .dataframe tbody tr th:only-of-type {\n",
       "        vertical-align: middle;\n",
       "    }\n",
       "\n",
       "    .dataframe tbody tr th {\n",
       "        vertical-align: top;\n",
       "    }\n",
       "\n",
       "    .dataframe thead th {\n",
       "        text-align: right;\n",
       "    }\n",
       "</style>\n",
       "<table border=\"1\" class=\"dataframe\">\n",
       "  <thead>\n",
       "    <tr style=\"text-align: right;\">\n",
       "      <th></th>\n",
       "      <th>Tweets</th>\n",
       "    </tr>\n",
       "  </thead>\n",
       "  <tbody>\n",
       "  </tbody>\n",
       "</table>\n",
       "</div>"
      ],
      "text/plain": [
       "Empty DataFrame\n",
       "Columns: [Tweets]\n",
       "Index: []"
      ]
     },
     "execution_count": 132,
     "metadata": {},
     "output_type": "execute_result"
    }
   ],
   "source": [
    "# Turn replies into a dataframe to clean\n",
    "df = pd.DataFrame([tweets for tweets in replies], columns=['Tweets'])\n",
    "df"
   ]
  },
  {
   "cell_type": "code",
   "execution_count": 152,
   "id": "7e429f2d",
   "metadata": {},
   "outputs": [],
   "source": [
    "#Fuction to clean replies using RegEx\n",
    "def cleantxt(text):\n",
    "    text = re.sub(r'@[A-Za-z0-9]+', '', text)\n",
    "    text = re.sub(r'#', '', text)\n",
    "    text = re.sub(r'RT[\\s]+', '', text)\n",
    "    text = re.sub(r'https?:/\\/\\S+', '', text)\n",
    "    return text"
   ]
  },
  {
   "cell_type": "code",
   "execution_count": 91,
   "id": "8b80756c",
   "metadata": {},
   "outputs": [
    {
     "data": {
      "text/html": [
       "<div>\n",
       "<style scoped>\n",
       "    .dataframe tbody tr th:only-of-type {\n",
       "        vertical-align: middle;\n",
       "    }\n",
       "\n",
       "    .dataframe tbody tr th {\n",
       "        vertical-align: top;\n",
       "    }\n",
       "\n",
       "    .dataframe thead th {\n",
       "        text-align: right;\n",
       "    }\n",
       "</style>\n",
       "<table border=\"1\" class=\"dataframe\">\n",
       "  <thead>\n",
       "    <tr style=\"text-align: right;\">\n",
       "      <th></th>\n",
       "      <th>Tweets</th>\n",
       "    </tr>\n",
       "  </thead>\n",
       "  <tbody>\n",
       "    <tr>\n",
       "      <th>0</th>\n",
       "      <td>We need to see more from our beloved players,...</td>\n",
       "    </tr>\n",
       "    <tr>\n",
       "      <th>1</th>\n",
       "      <td>Poorest</td>\n",
       "    </tr>\n",
       "    <tr>\n",
       "      <th>2</th>\n",
       "      <td>Lakaka</td>\n",
       "    </tr>\n",
       "    <tr>\n",
       "      <th>3</th>\n",
       "      <td>Ass</td>\n",
       "    </tr>\n",
       "    <tr>\n",
       "      <th>4</th>\n",
       "      <td>Bence Ronaldo pedekhos</td>\n",
       "    </tr>\n",
       "    <tr>\n",
       "      <th>...</th>\n",
       "      <td>...</td>\n",
       "    </tr>\n",
       "    <tr>\n",
       "      <th>106</th>\n",
       "      <td>Off</td>\n",
       "    </tr>\n",
       "    <tr>\n",
       "      <th>107</th>\n",
       "      <td>The players are  shit and they made Ole sacke...</td>\n",
       "    </tr>\n",
       "    <tr>\n",
       "      <th>108</th>\n",
       "      <td>Abysmal</td>\n",
       "    </tr>\n",
       "    <tr>\n",
       "      <th>109</th>\n",
       "      <td>The players are lazy it’s not the coach.. the...</td>\n",
       "    </tr>\n",
       "    <tr>\n",
       "      <th>110</th>\n",
       "      <td>Sluggish. But Phil Jones was top tier</td>\n",
       "    </tr>\n",
       "  </tbody>\n",
       "</table>\n",
       "<p>111 rows × 1 columns</p>\n",
       "</div>"
      ],
      "text/plain": [
       "                                                Tweets\n",
       "0     We need to see more from our beloved players,...\n",
       "1                                              Poorest\n",
       "2                                               Lakaka\n",
       "3                                                  Ass\n",
       "4                               Bence Ronaldo pedekhos\n",
       "..                                                 ...\n",
       "106                                                Off\n",
       "107   The players are  shit and they made Ole sacke...\n",
       "108                                            Abysmal\n",
       "109   The players are lazy it’s not the coach.. the...\n",
       "110              Sluggish. But Phil Jones was top tier\n",
       "\n",
       "[111 rows x 1 columns]"
      ]
     },
     "execution_count": 91,
     "metadata": {},
     "output_type": "execute_result"
    }
   ],
   "source": [
    "#Clean Text\n",
    "df['Tweets'] = df['Tweets'].apply(cleantxt)\n",
    "df"
   ]
  },
  {
   "cell_type": "code",
   "execution_count": 92,
   "id": "4bee13ab",
   "metadata": {},
   "outputs": [],
   "source": [
    "#Use TextBlob to get the Polarity of each Tweet\n",
    "def getSubjectivity(text):\n",
    "    return TextBlob(text).sentiment.subjectivity\n",
    "\n",
    "\n",
    "def getPolarity(text):\n",
    "    return TextBlob(text).sentiment.polarity\n",
    "\n",
    "df['Subjectivity'] = df['Tweets'].apply(getSubjectivity)\n",
    "df['Polarity'] = df['Tweets'].apply(getPolarity)"
   ]
  },
  {
   "cell_type": "code",
   "execution_count": 98,
   "id": "e8a41ece",
   "metadata": {
    "scrolled": true
   },
   "outputs": [
    {
     "name": "stdout",
     "output_type": "stream",
     "text": [
      "pos = 75\n",
      "neutral = 0\n",
      "neg = 36\n"
     ]
    }
   ],
   "source": [
    "#Calculate the number of positive, neutral and negative tweets\n",
    "pos = 0\n",
    "neg = 0\n",
    "neutral = 0\n",
    "for i in range(len(df['Tweets'])):\n",
    "    if df['Polarity'].loc[i] >= 0:\n",
    "        pos += 1\n",
    "    elif df['Polarity'].loc[i] == 0:\n",
    "        neutral += 1\n",
    "    else:\n",
    "        neg += 1\n",
    "        \n",
    "        \n",
    "print('pos =', pos)\n",
    "print('neutral =', neutral)\n",
    "print('neg =', neg)"
   ]
  },
  {
   "cell_type": "code",
   "execution_count": 156,
   "id": "413c1af4",
   "metadata": {
    "scrolled": true
   },
   "outputs": [
    {
     "data": {
      "text/plain": [
       "4.27"
      ]
     },
     "execution_count": 156,
     "metadata": {},
     "output_type": "execute_result"
    }
   ],
   "source": [
    "#Net sum of the polarity of replies for this particular match day\n",
    "summ = df['Polarity'].sum()\n",
    "summ"
   ]
  },
  {
   "cell_type": "code",
   "execution_count": 154,
   "id": "8c77fbf3",
   "metadata": {},
   "outputs": [
    {
     "data": {
      "text/plain": [
       "52.03333333333333"
      ]
     },
     "execution_count": 154,
     "metadata": {},
     "output_type": "execute_result"
    }
   ],
   "source": [
    "#Polarity adjusted for number of replies\n",
    "Total_responses = pos + neg\n",
    "Pol_score = summ + Total_responses\n",
    "Per = ((Pol_score)/(Total_responses*2))*100\n",
    "Per"
   ]
  },
  {
   "cell_type": "code",
   "execution_count": null,
   "id": "fbaf9e05",
   "metadata": {},
   "outputs": [],
   "source": []
  }
 ],
 "metadata": {
  "kernelspec": {
   "display_name": "Python 3",
   "language": "python",
   "name": "python3"
  },
  "language_info": {
   "codemirror_mode": {
    "name": "ipython",
    "version": 3
   },
   "file_extension": ".py",
   "mimetype": "text/x-python",
   "name": "python",
   "nbconvert_exporter": "python",
   "pygments_lexer": "ipython3",
   "version": "3.8.8"
  }
 },
 "nbformat": 4,
 "nbformat_minor": 5
}
